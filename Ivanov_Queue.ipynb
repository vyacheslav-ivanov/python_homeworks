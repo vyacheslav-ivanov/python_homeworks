{
 "cells": [
  {
   "cell_type": "code",
   "execution_count": 3,
   "metadata": {
    "collapsed": false
   },
   "outputs": [],
   "source": [
    "from pythonds.basic.stack import Stack"
   ]
  },
  {
   "cell_type": "code",
   "execution_count": 71,
   "metadata": {
    "collapsed": false
   },
   "outputs": [
    {
     "data": {
      "text/plain": [
       "'Italy'"
      ]
     },
     "execution_count": 71,
     "metadata": {},
     "output_type": "execute_result"
    }
   ],
   "source": [
    "class Stack:\n",
    "    def __init__(self): \n",
    "        self.items = []\n",
    "\n",
    "    def push(self, item): # положить элемент в стек\n",
    "        self.items.append(item)\n",
    "\n",
    "    def pop(self): # удалить элемент из стека и вернуть его значение\n",
    "        return self.items.pop()\n",
    "\n",
    "    def peek(self): # вернуть значение последнего элемента стека (не удаляя его)\n",
    "        return self.items[len(self.items) - 1]\n",
    "\n",
    "    def isEmpty(self): # вернуть True, если стек пуст, иначе вернуть False\n",
    "        return self.items == []\n",
    "\n",
    "    \n",
    "class MyQueue:\n",
    "    def __init__(self):\n",
    "        self.queue = []\n",
    "    \n",
    "    def push(self, item): # положить элемент в \"очередь\"\n",
    "        self.queue.append(item)\n",
    "        \n",
    "    def pop(self): # удалить элемент из \"очереди\" и вернуть его значение\n",
    "        return self.queue.pop()\n",
    "    \n",
    "    def peek(self): # вернуть значение последнего элемента \"очереди\" (не удаляя его)\n",
    "        return self.queue[len(self.queue) - 1]\n",
    "    \n",
    "    def isEmpty(self): # вернуть True, если \"очередь\" пуста, иначе вернуть False\n",
    "        return self.queue == []\n",
    "    \n",
    "        \n",
    "s = Stack()\n",
    "\n",
    "s.push('Russia') # положим элемент 1\n",
    "s.push('USA') # положим элемент 2\n",
    "s.push('Great Britain') # положим элемент 3\n",
    "s.push('Germany') # положим элемент 4\n",
    "s.push('Italy') # положим элемент n\n",
    "\n",
    "m = MyQueue()\n",
    "m.push(s.pop()) # берем n-й элемент из стека и кладём в \"очередь\", он становится 1\n",
    "m.push(s.pop()) # берем [n-1]-й элемент из стека и кладём в \"очередь\", он становится 2\n",
    "m.push(s.pop()) # и так далее...\n",
    "m.push(s.pop()) \n",
    "m.push(s.pop()) \n",
    "\n",
    "\n",
    "m.pop() # удаляем последний элемент \"очереди\", он же 1-й в стеке\n",
    "#m.pop() # и так далее...\n",
    "#m.pop()\n",
    "#m.pop()\n",
    "#m.pop()\n"
   ]
  }
 ],
 "metadata": {
  "kernelspec": {
   "display_name": "Python [conda root]",
   "language": "python",
   "name": "conda-root-py"
  },
  "language_info": {
   "codemirror_mode": {
    "name": "ipython",
    "version": 3
   },
   "file_extension": ".py",
   "mimetype": "text/x-python",
   "name": "python",
   "nbconvert_exporter": "python",
   "pygments_lexer": "ipython3",
   "version": "3.5.2"
  }
 },
 "nbformat": 4,
 "nbformat_minor": 1
}
